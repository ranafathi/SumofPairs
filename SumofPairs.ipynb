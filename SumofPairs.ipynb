{
  "nbformat": 4,
  "nbformat_minor": 0,
  "metadata": {
    "colab": {
      "name": "SumofPairs.ipynb",
      "provenance": [],
      "collapsed_sections": [],
      "include_colab_link": true
    },
    "kernelspec": {
      "name": "python3",
      "display_name": "Python 3"
    },
    "language_info": {
      "name": "python"
    }
  },
  "cells": [
    {
      "cell_type": "markdown",
      "metadata": {
        "id": "view-in-github",
        "colab_type": "text"
      },
      "source": [
        "<a href=\"https://colab.research.google.com/github/ranafathi/SumofPairs/blob/main/SumofPairs.ipynb\" target=\"_parent\"><img src=\"https://colab.research.google.com/assets/colab-badge.svg\" alt=\"Open In Colab\"/></a>"
      ]
    },
    {
      "cell_type": "markdown",
      "source": [
        "# Sum of Pairs\n",
        "\n",
        "The sum of pairs algorithm takes input sequences then aligns two sequences without repeating any two pairs. The match score is set to 1 by default, and mismatch score is set to -1."
      ],
      "metadata": {
        "id": "pJrWdzEaCNVy"
      }
    },
    {
      "cell_type": "code",
      "execution_count": null,
      "metadata": {
        "id": "unBYYdy9RuSg",
        "colab": {
          "base_uri": "https://localhost:8080/"
        },
        "outputId": "f2de9f7b-da6c-4d65-b1d5-5d1532e4f3ef"
      },
      "outputs": [
        {
          "output_type": "stream",
          "name": "stdout",
          "text": [
            "Enter number of sequences: 4\n",
            "Enter Sequence: ATCGC\n",
            "Enter Sequence: ATTCG\n",
            "Enter Sequence: CTGAC\n",
            "Enter Sequence: CGTAA\n",
            "Matches and Mismatches: \n",
            " [1, 1, -1, -1, -1]\n",
            "Matches and Mismatches: \n",
            " [-1, 1, -1, -1, 1]\n",
            "Matches and Mismatches: \n",
            " [-1, -1, -1, -1, -1]\n",
            "Matches and Mismatches: \n",
            " [-1, 1, -1, -1, -1]\n",
            "Matches and Mismatches: \n",
            " [-1, -1, 1, -1, -1]\n",
            "Matches and Mismatches: \n",
            " [1, -1, -1, 1, -1]\n"
          ]
        }
      ],
      "source": [
        "import random\n",
        "\n",
        "#If the user enters more than 2 sequences, pick 2\n",
        "def pick_pairs(number_of_sequences, all_input_sequences):\n",
        "  sumPairs = []\n",
        "  for i in range(0, number_of_sequences):\n",
        "    Seq1 = all_input_sequences[i]\n",
        "    for j in range(i+1, number_of_sequences):\n",
        "      Seq2 = all_input_sequences[j]\n",
        "      sumPairs.append(sumofpairs(Seq1,Seq2))\n",
        "\n",
        "# TAKE INPUT AS A WORD AND TURN IT INTO CHARACTERS\n",
        "def retlist (sequence):\n",
        "  array_to_list = sequence\n",
        "  retlist = list(array_to_list)\n",
        "  return retlist\n",
        "\n",
        "# GET SUM OF PAIRS MATRIX\n",
        "def sumofpairs(seq1, seq2):\n",
        "  retlist(seq1)\n",
        "  retlist(seq2)\n",
        "  matchvalue = 1\n",
        "  mismatchvalue = -1\n",
        "  output_array = []\n",
        "  for i in range(0, len(seq1)):\n",
        "    if seq1[i] == seq2[i]:\n",
        "      output_array.append(matchvalue)\n",
        "    else:\n",
        "      output_array.append(mismatchvalue)\n",
        "  return print('Matches and Mismatches: \\n', output_array)\n",
        "\n",
        "# all_input_sequences = ['CTGC','TCCG','TAGG','TACT']\n",
        "all_input_sequences = []\n",
        "num = int(input(\"Enter number of sequences: \"))\n",
        "for i in range(0, num):\n",
        " ele = input(\"Enter Sequence: \")\n",
        " all_input_sequences.append(ele)\n",
        "number_of_sequences = num\n",
        "# number_of_sequences = 4\n",
        "pick_pairs(number_of_sequences, all_input_sequences)\n"
      ]
    }
  ]
}